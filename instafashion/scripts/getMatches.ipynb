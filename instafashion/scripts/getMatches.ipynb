{
 "cells": [
  {
   "cell_type": "raw",
   "metadata": {},
   "source": [
    " * Copyright 2020 Google LLC\n",
    " *\n",
    " * Licensed under the Apache License, Version 2.0 (the \"License\");\n",
    " * you may not use this file except in compliance with the License.\n",
    " * You may obtain a copy of the License at\n",
    " *\n",
    " *      http://www.apache.org/licenses/LICENSE-2.0\n",
    " *\n",
    " * Unless required by applicable law or agreed to in writing, software\n",
    " * distributed under the License is distributed on an \"AS IS\" BASIS,\n",
    " * WITHOUT WARRANTIES OR CONDITIONS OF ANY KIND, either express or implied.\n",
    " * See the License for the specific language governing permissions and\n",
    " * limitations under the License."
   ]
  },
  {
   "cell_type": "code",
   "execution_count": 10,
   "metadata": {},
   "outputs": [
    {
     "data": {
      "text/plain": [
       "True"
      ]
     },
     "execution_count": 10,
     "metadata": {},
     "output_type": "execute_result"
    }
   ],
   "source": [
    "from pyvisionproductsearch import ProductSearch, ProductCategories\n",
    "from google.cloud import storage\n",
    "from google.cloud import firestore\n",
    "import pandas as pd\n",
    "from google.cloud import vision\n",
    "from google.cloud.vision import types\n",
    "from utils import detectLabels, detectObjects\n",
    "import io\n",
    "from tqdm.notebook import tqdm\n",
    "import os\n",
    "from dotenv import load_dotenv\n",
    "load_dotenv()"
   ]
  },
  {
   "cell_type": "code",
   "execution_count": 81,
   "metadata": {},
   "outputs": [],
   "source": [
    "# Fill these out with your own values\n",
    "# GCP config\n",
    "GCP_PROJECTID=\"YOUR_PROJECT_ID\"\n",
    "BUCKET=\"YOUR_BUCKET\"\n",
    "CREDS=\"key.json\"\n",
    "PRODUCT_SET=\"YOUR_PRODUCT_SET\"\n",
    "INSPO_BUCKET = \"YOUR_INSPO_PIC_BUCKET\"\n",
    "# If your inspiration pictures are in a subfolder, list it here:\n",
    "INSPO_SUBFOLDER = \"YOUR_SUBFOLDER_NAME\""
   ]
  },
  {
   "cell_type": "code",
   "execution_count": 12,
   "metadata": {},
   "outputs": [],
   "source": [
    "# To use this notebook, make a copy of .env_template --> .env and fill out the fields!\n",
    "ps = ProductSearch(GCP_PROJECTID, CREDS, BUCKET)\n",
    "productSet = ps.getProductSet(PRODUCT_SET)"
   ]
  },
  {
   "cell_type": "markdown",
   "metadata": {},
   "source": [
    "### Download fashion influence pics and filter them by \"Fashion\" images"
   ]
  },
  {
   "cell_type": "code",
   "execution_count": 14,
   "metadata": {},
   "outputs": [
    {
     "data": {
      "application/vnd.jupyter.widget-view+json": {
       "model_id": "dbe7426cc5374d7d8c55cb2f382f15f5",
       "version_major": 2,
       "version_minor": 0
      },
      "text/plain": [
       "HBox(children=(FloatProgress(value=0.0, max=10.0), HTML(value='')))"
      ]
     },
     "metadata": {},
     "output_type": "display_data"
    },
    {
     "name": "stdout",
     "output_type": "stream",
     "text": [
      "\n"
     ]
    }
   ],
   "source": [
    "# For each fashion inspiration pic, check to make sure that it's \n",
    "# a \"fashion\" picture. Ignore all other pics\n",
    "storage_client = storage.Client()\n",
    "blobs = list(storage_client.list_blobs(INSPO_BUCKET, prefix=INSPO_SUBFOLDER))\n",
    "uris = [os.path.join(\"gs://\", blobs[0].bucket.name, x.name)\n",
    "        for x in blobs if '.jpg' in x.name]\n",
    "urls = [x.public_url for x in blobs if '.jpg' in x.name]\n",
    "\n",
    "fashionPics = []\n",
    "for uri, url in tqdm(list(zip(uris, urls))):\n",
    "    labels = detectLabels(image_uri=uri)\n",
    "    if any([x.description == \"Fashion\" for x in labels]):\n",
    "        fashionPics.append((uri, url))\n",
    "fashion_pics = pd.DataFrame(fashionPics, columns=[\"uri\", \"url\"])"
   ]
  },
  {
   "cell_type": "code",
   "execution_count": null,
   "metadata": {},
   "outputs": [],
   "source": [
    "# Run this line to verify you can actually search your product set using a picture\n",
    "productSet.search(\"apparel\", image_uri=fashion_pics['uri'].iloc[0])"
   ]
  },
  {
   "cell_type": "markdown",
   "metadata": {},
   "source": [
    "Example Response:\n",
    "\n",
    "    {'score': 0.7648860812187195,\n",
    "      'label': 'Shoe',\n",
    "      'matches': [{'product': <pyvisionproductsearch.ProductSearch.ProductSearch.Product at 0x14992d2e0>,\n",
    "        'score': 0.35719582438468933,\n",
    "        'image': 'projects/yourprojectid/locations/us-west1/products/high_rise_white_jeans_pants/referenceImages/6550f579-6b26-433a-8fa6-56e5bbca95c1'},\n",
    "       {'product': <pyvisionproductsearch.ProductSearch.ProductSearch.Product at 0x14992d5b0>,\n",
    "        'score': 0.32596680521965027,\n",
    "        'image': 'projects/yourprojectid/locations/us-west1/products/white_boot_shoe/referenceImages/56248bb2-9d5e-4004-b397-6c3b2fb0edc3'},\n",
    "       {'product': <pyvisionproductsearch.ProductSearch.ProductSearch.Product at 0x14a423850>,\n",
    "        'score': 0.26240724325180054,\n",
    "        'image': 'projects/yourprojectid/locations/us-west1/products/tan_strap_sandal_shoe/referenceImages/f970af65-c51e-42e8-873c-d18080f00430'}],\n",
    "      'boundingBox': [x: 0.6475263833999634\n",
    "      y: 0.8726409077644348\n",
    "      , x: 0.7815263271331787\n",
    "      y: 0.8726409077644348\n",
    "      , x: 0.7815263271331787\n",
    "      y: 0.9934644103050232\n",
    "      , x: 0.6475263833999634\n",
    "      y: 0.9934644103050232\n",
    "      ]},\n",
    "     {'score': 0.8066604733467102,\n",
    "      'label': 'Shorts',\n",
    "      'matches': [{'product': <pyvisionproductsearch.ProductSearch.ProductSearch.Product at 0x106a4fa60>,\n",
    "        'score': 0.27552375197410583,\n",
    "        'image': 'projects/yourprojectid/locations/us-west1/products/white_sneaker_shoe_*/referenceImages/a109b530-56ff-42bc-ac73-d60578b7f363'},\n",
    "       {'product': <pyvisionproductsearch.ProductSearch.ProductSearch.Product at 0x106a4f400>,\n",
    "        'score': 0.2667400538921356,\n",
    "        'image': 'projects/yourprojectid/locations/us-west1/products/grey_vneck_tee_top_*/referenceImages/cc6f873c-328e-481a-86fb-a2116614ce80'},\n",
    "       {'product': <pyvisionproductsearch.ProductSearch.ProductSearch.Product at 0x106a4f8e0>,\n",
    "        'score': 0.2606571912765503,\n",
    "        'image': 'projects/yourprojectid/locations/us-west1/products/high_rise_white_jeans_pants_*/referenceImages/360b26d8-a844-4a83-bf97-ef80f2243fdb'},\n",
    "       {'product': <pyvisionproductsearch.ProductSearch.ProductSearch.Product at 0x106a4fb80>],\n",
    "      'boundingBox': [x: 0.4181176424026489\n",
    "      y: 0.40305882692337036\n",
    "      , x: 0.6837647557258606\n",
    "      y: 0.40305882692337036\n",
    "      , x: 0.6837647557258606\n",
    "      y: 0.64000004529953\n",
    "      , x: 0.4181176424026489\n",
    "      y: 0.64000004529953\n",
    "      ]}]"
   ]
  },
  {
   "cell_type": "markdown",
   "metadata": {},
   "source": [
    "The response above returns a set of matches for each item identified in your inspiration photo.\n",
    "\n",
    "In the example above, \"Shorts\" and \"Shoes\" were recognized. For each of those items, a bounding box is returned that indicates where the item is in the picture.\n",
    "\n",
    "For each matched item in your closet, a `Product` object is returned along with its image id and a confidence score."
   ]
  },
  {
   "cell_type": "markdown",
   "metadata": {},
   "source": [
    "### Get clothing matches"
   ]
  },
  {
   "cell_type": "markdown",
   "metadata": {},
   "source": [
    "We want to make sure that when we recommend users similar items that we respect clothing type. \n",
    "\n",
    "For example, the Product Search API might (accidentally) return a dress as a match for a shirt, but we wouldn't want to expose that to the end user. So this function--getBestMatch--sorts through the results returned by the API and makes sure that a. only the highest confidence match for each item is returned and b. that the item types match."
   ]
  },
  {
   "cell_type": "code",
   "execution_count": 77,
   "metadata": {},
   "outputs": [],
   "source": [
    "# The API sometimes uses different names for similar items, so this\n",
    "# function tells you whether two labels are roughly equivalent\n",
    "def isTypeMatch(label1, label2):\n",
    "    # everything in a single match group are more or less synonymous\n",
    "    matchGroups = [(\"skirt\", \"miniskirt\"), \n",
    "               (\"jeans\", \"pants\"), \n",
    "               (\"shorts\"),\n",
    "               (\"jacket\", \"vest\", \"outerwear\", \"coat\", \"suit\"),\n",
    "               (\"top\", \"shirt\"),\n",
    "               (\"dress\"),\n",
    "               (\"swimwear\", \"underpants\"),\n",
    "               (\"footwear\", \"sandal\", \"boot\", \"high heels\"),\n",
    "               (\"handbag\", \"suitcase\", \"satchel\", \"backpack\", \"briefcase\"),\n",
    "               (\"sunglasses\", \"glasses\"),\n",
    "               (\"bracelet\"),\n",
    "               (\"scarf\", \"bowtie\", \"tie\"),\n",
    "               (\"earrings\"),\n",
    "               (\"necklace\"),\n",
    "               (\"sock\"),\n",
    "               (\"hat\", \"cowboy hat\", \"straw hat\", \"fedora\", \"sun hat\", \"sombrero\")]\n",
    "    for group in matchGroups:\n",
    "        if label1.lower() in group and label2.lower() in group:\n",
    "            return True\n",
    "    return False"
   ]
  },
  {
   "cell_type": "code",
   "execution_count": 79,
   "metadata": {},
   "outputs": [],
   "source": [
    "def getBestMatch(searchResponse):\n",
    "    label = searchResponse['label']\n",
    "    matches = searchResponse['matches']\n",
    "    viableMatches = [match for match in matches if any([isTypeMatch(label, match['product'].labels['type'])])]\n",
    "    return max(viableMatches, key= lambda x: x['score']) if len(viableMatches) else None\n"
   ]
  },
  {
   "cell_type": "markdown",
   "metadata": {},
   "source": [
    "After we run `getBestMatch` above, we're left with a bunch of items from our own closet that match our inspiration picture. But the next step is transform those matches into an \"outfit,\" and outfits have rules: you can't wear a dress and pants at the same time (probably). You usually only wear one type of shoe. This next function, `canAddItem`, allows us to add clothing items to an outfit one at a time without breaking any of the \"rules\" of fashion."
   ]
  },
  {
   "cell_type": "code",
   "execution_count": 22,
   "metadata": {},
   "outputs": [],
   "source": [
    "def canAddItem(existingArray, newType):\n",
    "    bottoms = {\"pants\", \"skirt\", \"shorts\", \"dress\"}\n",
    "    newType = newType.lower()\n",
    "    # Don't add the same item type twice\n",
    "    if newType in existingArray:\n",
    "        return False\n",
    "    if newType == \"shoe\":\n",
    "        return True\n",
    "    # Only add one type of bottom (pants, skirt, etc)\n",
    "    if newType in bottoms and len(bottoms.intersection(existingArray)):\n",
    "        return False\n",
    "    # You can't wear both a top and a dress\n",
    "    if newType == \"top\" and \"dress\" in existingArray:\n",
    "        return False\n",
    "    return True"
   ]
  },
  {
   "cell_type": "markdown",
   "metadata": {},
   "source": [
    "Finally, we need a function that allows us to evaluate how \"good\" an outfit recommendation is. We'll do this by creating a score function. This part is creative, and you can do it however you like. Here are some example score functions:"
   ]
  },
  {
   "cell_type": "code",
   "execution_count": 73,
   "metadata": {},
   "outputs": [],
   "source": [
    "# Option 1: sum up the confidence scores for each closet item matched to the inspo photo\n",
    "def scoreOutfit1(matches):\n",
    "    if not matches:\n",
    "        return 0\n",
    "    return sum([match['score'] for match in matches]) / len(matches)\n",
    "\n",
    "# Option 2: Sum up the confidence scores only of items that matched with the inspo photo \n",
    "# with confidence > 0.3. Also, because shoes will match most images _twice_ \n",
    "# (because people have two feet), only count the shoe confidence score once\n",
    "def scoreOutfit2(matches):\n",
    "    if not len(matches):\n",
    "        return 0\n",
    "    \n",
    "    noShoeSum = sum([x['score'] for x in matches if (x['score'] > 0.3 and not isTypeMatch(\"shoe\", x[\"label\"]))])\n",
    "    shoeScore = 0\n",
    "    try:\n",
    "        shoeScore = max([x['score'] for x in matches if isTypeMatch(\"shoe\", x[\"label\"])])\n",
    "    except:\n",
    "        pass\n",
    "    return noShoeSum + shoeScore * 0.5 # half the weight for shoes"
   ]
  },
  {
   "cell_type": "markdown",
   "metadata": {},
   "source": [
    "Great--now that we have all our helper functions written, let's combine them into one big function for \n",
    "constructing an outfit and computing its score!"
   ]
  },
  {
   "cell_type": "code",
   "execution_count": 92,
   "metadata": {},
   "outputs": [],
   "source": [
    "def getOutfit(imgUri, verbose=False):\n",
    "    # 1. Search for matching items\n",
    "    response = productSet.search(\"apparel\", image_uri=imgUri)\n",
    "    if verbose:\n",
    "        print(\"Found matching \" + \", \".join([x['label'] for x in response]) + \" in closet.\")\n",
    "\n",
    "    clothes = []\n",
    "    # 2. For each item in the inspo pic, find the best match in our closet and add it to \n",
    "    # the outfit array\n",
    "    for item in response:\n",
    "        bestMatch = getBestMatch(item)\n",
    "        if not bestMatch:\n",
    "            if verbose:\n",
    "                print(f\"No good match found for {item['label']}\")\n",
    "            continue\n",
    "        if verbose:\n",
    "            print(f\"Best match for {item['label']} was {bestMatch['product'].displayName}\")\n",
    "        clothes.append(bestMatch)\n",
    "\n",
    "    # 3. Sort the items by highest confidence score first\n",
    "    clothes.sort(key=lambda x: x['score'], reverse=True)\n",
    "\n",
    "    # 4. Add as many items as possible to the outfit while still\n",
    "    # maintaining a logical outfit\n",
    "    outfit = []\n",
    "    addedTypes = []\n",
    "    for item in clothes:\n",
    "        itemType = item['product'].labels['type'] # i.e. shorts, top, etc\n",
    "        if canAddItem(addedTypes, itemType):\n",
    "            addedTypes.append(itemType)\n",
    "            outfit.append(item)\n",
    "            if verbose:\n",
    "                print(f\"Added a {itemType} to the outfit\")\n",
    "\n",
    "    # 5. Now that we have a whole outfit, compute its score!\n",
    "    score1 =  scoreOutfit1(outfit)\n",
    "    score2 = scoreOutfit2(outfit)\n",
    "    if verbose:\n",
    "        print(\"Algorithm 1 score: %0.3f\" % score1)\n",
    "        print(\"Algorithm 2 score: %0.3f\" % score2)\n",
    "    return (outfit, score1, score2)\n",
    "    "
   ]
  },
  {
   "cell_type": "code",
   "execution_count": null,
   "metadata": {},
   "outputs": [],
   "source": [
    "getOutfit(fashion_pics.iloc[0]['uri'], verbose=True)"
   ]
  },
  {
   "cell_type": "markdown",
   "metadata": {},
   "source": [
    "Output:\n",
    "\n",
    "        Found matching Shorts, Shoe in closet.\n",
    "        Best match for Shorts was high_rise_white_shorts_*\n",
    "        No good match found for Shoe\n",
    "        Added a shorts to the outfit\n",
    "        Algorithm 1 score: 0.247\n",
    "        Algorithm 2 score: 0.000\n",
    "        {'outfit': [{'product': <pyvisionproductsearch.ProductSearch.ProductSearch.Product at 0x149fa6760>,\n",
    "           'score': 0.24715223908424377,\n",
    "           'image': 'projects/yourprojectid/locations/us-west1/products/high_rise_white_shorts_*/referenceImages/71cc9936-2a35-4a81-8f43-75e1bf50fc22'}],\n",
    "         'score1': 0.24715223908424377,\n",
    "         'score2': 0.0}"
   ]
  },
  {
   "cell_type": "markdown",
   "metadata": {},
   "source": [
    "### Add Data to Firestore"
   ]
  },
  {
   "cell_type": "markdown",
   "metadata": {},
   "source": [
    "Now that we have a way of constructing and scoring outfits, let's add them to Firestore\n",
    "so we can later use them in our app."
   ]
  },
  {
   "cell_type": "code",
   "execution_count": 88,
   "metadata": {},
   "outputs": [],
   "source": [
    "db = firestore.Client()\n",
    "userid = u\"youruserd\" # I like to store all data in Firestore as users, incase I decide to add more in the future!\n",
    "thisUser = db.collection(u'users').document(userid)\n",
    "outfits = thisUser.collection(u'outfitsDEMO')"
   ]
  },
  {
   "cell_type": "code",
   "execution_count": 91,
   "metadata": {},
   "outputs": [
    {
     "name": "stdout",
     "output_type": "stream",
     "text": [
      "Added a shorts to the outfit\n"
     ]
    }
   ],
   "source": [
    "# Go through all of the inspo pics and compute matches.\n",
    "for row in fashion_pics.iterrows():\n",
    "    srcUrl = row[1]['url']\n",
    "    srcUri = row[1]['uri']\n",
    "    (outfit, score1, score2) = getOutfit(srcUri, verbose=False)\n",
    "    \n",
    "    # Construct a name for the source image--a key we can use to store it in the database\n",
    "    srcId = srcUri[len(\"gs://\"):].replace(\"/\",\"-\")\n",
    "    \n",
    "    # Firestore writes json to the database, so let's construct an object and fill it with data\n",
    "    fsMatch = {\n",
    "        \"srcUrl\": srcUrl,\n",
    "        \"srcUri\": srcUri,\n",
    "        \"score1\": score1,\n",
    "        \"score2\": score2,\n",
    "    }\n",
    "    # Go through all of the outfit matches and put them into json that can be\n",
    "    # written to firestore\n",
    "    theseMatches = []\n",
    "    for match in outfit:\n",
    "        image = match['image']\n",
    "        imgName = match['image'].split('/')[-1]\n",
    "        name = match['image'].split('/')[-3]\n",
    "        # The storage api makes these images publicly accessible through url\n",
    "        imageUrl = f\"https://storage.googleapis.com/{BUCKET}/\" + imgName\n",
    "        label = match['product'].labels['type']\n",
    "        score = match['score']\n",
    "\n",
    "        theseMatches.append({\n",
    "            \"score\": score,\n",
    "            \"image\": image,\n",
    "            \"imageUrl\": imageUrl,\n",
    "            \"label\": label\n",
    "        })\n",
    "    fsMatch[\"matches\"] = theseMatches\n",
    "    # Add the outfit to firestore!\n",
    "    outfits.document(srcId).set(fsMatch)"
   ]
  },
  {
   "cell_type": "markdown",
   "metadata": {},
   "source": [
    "Voila! Now you have a bunch of matches to recommend in Firestore! Just build a nice frontend to back it up!"
   ]
  },
  {
   "cell_type": "code",
   "execution_count": null,
   "metadata": {},
   "outputs": [],
   "source": []
  }
 ],
 "metadata": {
  "kernelspec": {
   "display_name": "Python 3",
   "language": "python",
   "name": "python3"
  },
  "language_info": {
   "codemirror_mode": {
    "name": "ipython",
    "version": 3
   },
   "file_extension": ".py",
   "mimetype": "text/x-python",
   "name": "python",
   "nbconvert_exporter": "python",
   "pygments_lexer": "ipython3",
   "version": "3.8.5"
  }
 },
 "nbformat": 4,
 "nbformat_minor": 4
}
